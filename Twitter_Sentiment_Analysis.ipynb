{
 "cells": [
  {
   "cell_type": "markdown",
   "metadata": {},
   "source": [
    "# Twitter Sentiment Analysis Usinng Tweepy and TextBlob"
   ]
  },
  {
   "cell_type": "code",
   "execution_count": 78,
   "metadata": {},
   "outputs": [
    {
     "name": "stdout",
     "output_type": "stream",
     "text": [
      "RT @JoeBiden: Donald Trump is going to court to stop votes from being counted. We have assembled the largest election protection effort in…\n",
      "Sentiment(polarity=0.0, subjectivity=0.0)\n",
      "RT @USATODAY: Editor-in-chief @nicole_carroll on pulling the livestream of President Donald Trump's remarks tonight. https://t.co/GPrQudnFjj\n",
      "Sentiment(polarity=0.0, subjectivity=0.0)\n",
      "RT @JoeBiden: Donald Trump is going to court to stop votes from being counted. We have assembled the largest election protection effort in…\n",
      "Sentiment(polarity=0.0, subjectivity=0.0)\n",
      "@NumbersMuncher Donald Trump is a farter??\n",
      "Sentiment(polarity=0.0, subjectivity=0.0)\n",
      "🗳️🇺🇸Cada minuto que pasa se sigue acortando la diferencia entre Donald Trump y Joe Biden en Georgia.\n",
      "\n",
      "⚠️2496 votos… https://t.co/AkLR5yDnxg\n",
      "Sentiment(polarity=0.0, subjectivity=0.0)\n",
      "RT @NTN24: “No vamos a permitir que la corrupción se robe unas elecciones tan importantes”: Donald Trump #Elecciones2020 \n",
      "\n",
      "🔴 SEÑAL EN VIVO…\n",
      "Sentiment(polarity=0.0, subjectivity=0.0)\n",
      "RT @UniNoticias: 🇺🇸 #Elección2020 🎥 #Georgia entrega 16 votos electorales al ganador de la contienda. Las autoridades indicaron que este vi…\n",
      "Sentiment(polarity=0.0, subjectivity=0.0)\n",
      "Donald Trump tune for today' https://t.co/9FegA8ropo via @YouTube\n",
      "Sentiment(polarity=0.0, subjectivity=0.0)\n",
      "RT @JoeBiden: Donald Trump is going to court to stop votes from being counted. We have assembled the largest election protection effort in…\n",
      "Sentiment(polarity=0.0, subjectivity=0.0)\n",
      "RT @connorfranta: Donald Trump is the perfect example of what happens when you’ve been blinded by privilege and sheltered by money your ent…\n",
      "Sentiment(polarity=1.0, subjectivity=1.0)\n",
      "RT @ulichaparro12: En Estados Unidos votaron por Biden personas que están muertas hace más de 30 años 7 y durante la madrugada metieron 130…\n",
      "Sentiment(polarity=0.0, subjectivity=0.0)\n",
      "RT @PalmerReport: Even I didn’t have “Steve Bannon calls for beheadings as Donald Trump loses the election” on my batshit crazy 2020 bingo…\n",
      "Sentiment(polarity=-0.44999999999999996, subjectivity=0.5)\n",
      "RT @maibortpetit: El abogado de Donald Trump, Rudy Giuliani, afirma que hay papeletas de votación por correo \"fraudulentas\" que forman part…\n",
      "Sentiment(polarity=0.0, subjectivity=0.0)\n",
      "Christians Do Not lose Faith in God. President\n",
      "Donald J. Trump will come out the Winner.\n",
      "Trust God.\n",
      "We are to walk… https://t.co/ZCEVUC8zLv\n",
      "Sentiment(polarity=0.0, subjectivity=0.0)\n",
      "RT @allreactionvids: Donald Trump walking away depressed to spongebob sad music and squidward’s tentacles sound reaction video meme https:/…\n",
      "Sentiment(polarity=-0.04999999999999999, subjectivity=0.7)\n"
     ]
    }
   ],
   "source": [
    "import tweepy\n",
    "from textblob import TextBlob\n",
    "consumer_key = 'XXXXXXXXXXXXXXXXXXXXX'\n",
    "consumer_secret = 'XXXXXXXXXXXXXXXXXXXXXX'\n",
    "access_token = 'XXXXXXXXXXXXXXXXXXXXXXXXXXXXX'\n",
    "access_token_secret = 'XXXXXXXXXXXXXXXXXXXXXXXXXXXXXX'\n",
    "auth = tweepy.OAuthHandler(consumer_key,consumer_secret)\n",
    "auth.set_access_token(access_token,access_token_secret)\n",
    "api = tweepy.API(auth, wait_on_rate_limit=True)\n",
    "# public_tweets = api.search('Donald Trump')\n",
    "# for tweet in public_tweets:\n",
    "#     print(tweet.text)\n",
    "#     analysis = TextBlob(tweet.text)\n",
    "#     print(analysis.sentiment)"
   ]
  },
  {
   "cell_type": "code",
   "execution_count": 79,
   "metadata": {},
   "outputs": [
    {
     "name": "stdout",
     "output_type": "stream",
     "text": [
      "Here in Washington, we always vote by mail. It's a safe and secure way to shape the future of our country. But rega… https://t.co/wGSCJYxxY1\n",
      "\n",
      "@MohamedBinZayed The UAE is an essential partner in stopping polio in Pakistan. Thank you @MohamedBinZayed for your… https://t.co/5xQEZ8CpUL\n",
      "\n",
      "For decades, @Rotary has worked tirelessly to #EndPolio. Today, the health infrastructure they’ve built around the… https://t.co/vYYV7djNsE\n",
      "\n",
      "RT @StephenCurry30: Even with his busy schedule, Dr. Fauci took the time to sit down with me (AGAIN) and talk about what we’ve gotten right…\n",
      "\n",
      "I’ve been working for some time on a book about what we need to do over the next decade to avoid a climate disaster… https://t.co/UvV6cRjxOW\n",
      "\n"
     ]
    }
   ],
   "source": [
    "posts = api.user_timeline(screen_name = 'BillGates', count = 500, lang = 'en', tweet_code = 'extended')\n",
    "\n",
    "## for refernce we are printing forst 5 tweets\n",
    "\n",
    "for tweet in posts[0:5]:\n",
    "    print(tweet.text + '\\n')"
   ]
  },
  {
   "cell_type": "code",
   "execution_count": 80,
   "metadata": {},
   "outputs": [],
   "source": [
    "import numpy as np\n",
    "import matplotlib.pyplot as plt\n",
    "import pandas as pd"
   ]
  },
  {
   "cell_type": "code",
   "execution_count": 81,
   "metadata": {
    "scrolled": false
   },
   "outputs": [
    {
     "data": {
      "text/html": [
       "<div>\n",
       "<style scoped>\n",
       "    .dataframe tbody tr th:only-of-type {\n",
       "        vertical-align: middle;\n",
       "    }\n",
       "\n",
       "    .dataframe tbody tr th {\n",
       "        vertical-align: top;\n",
       "    }\n",
       "\n",
       "    .dataframe thead th {\n",
       "        text-align: right;\n",
       "    }\n",
       "</style>\n",
       "<table border=\"1\" class=\"dataframe\">\n",
       "  <thead>\n",
       "    <tr style=\"text-align: right;\">\n",
       "      <th></th>\n",
       "      <th>Tweets</th>\n",
       "    </tr>\n",
       "  </thead>\n",
       "  <tbody>\n",
       "    <tr>\n",
       "      <th>0</th>\n",
       "      <td>Here in Washington, we always vote by mail. It...</td>\n",
       "    </tr>\n",
       "    <tr>\n",
       "      <th>1</th>\n",
       "      <td>@MohamedBinZayed The UAE is an essential partn...</td>\n",
       "    </tr>\n",
       "    <tr>\n",
       "      <th>2</th>\n",
       "      <td>For decades, @Rotary has worked tirelessly to ...</td>\n",
       "    </tr>\n",
       "    <tr>\n",
       "      <th>3</th>\n",
       "      <td>RT @StephenCurry30: Even with his busy schedul...</td>\n",
       "    </tr>\n",
       "    <tr>\n",
       "      <th>4</th>\n",
       "      <td>I’ve been working for some time on a book abou...</td>\n",
       "    </tr>\n",
       "  </tbody>\n",
       "</table>\n",
       "</div>"
      ],
      "text/plain": [
       "                                              Tweets\n",
       "0  Here in Washington, we always vote by mail. It...\n",
       "1  @MohamedBinZayed The UAE is an essential partn...\n",
       "2  For decades, @Rotary has worked tirelessly to ...\n",
       "3  RT @StephenCurry30: Even with his busy schedul...\n",
       "4  I’ve been working for some time on a book abou..."
      ]
     },
     "execution_count": 81,
     "metadata": {},
     "output_type": "execute_result"
    }
   ],
   "source": [
    "df = pd.DataFrame([tweet.text for tweet in posts], columns = ['Tweets'], dtype='string')\n",
    "df.head()"
   ]
  },
  {
   "cell_type": "code",
   "execution_count": 82,
   "metadata": {},
   "outputs": [
    {
     "name": "stdout",
     "output_type": "stream",
     "text": [
      "<class 'pandas.core.frame.DataFrame'>\n",
      "RangeIndex: 200 entries, 0 to 199\n",
      "Data columns (total 1 columns):\n",
      " #   Column  Non-Null Count  Dtype \n",
      "---  ------  --------------  ----- \n",
      " 0   Tweets  200 non-null    string\n",
      "dtypes: string(1)\n",
      "memory usage: 1.7 KB\n"
     ]
    }
   ],
   "source": [
    "df.info()"
   ]
  },
  {
   "cell_type": "code",
   "execution_count": 83,
   "metadata": {},
   "outputs": [],
   "source": [
    "import re"
   ]
  },
  {
   "cell_type": "code",
   "execution_count": 84,
   "metadata": {},
   "outputs": [
    {
     "data": {
      "text/html": [
       "<div>\n",
       "<style scoped>\n",
       "    .dataframe tbody tr th:only-of-type {\n",
       "        vertical-align: middle;\n",
       "    }\n",
       "\n",
       "    .dataframe tbody tr th {\n",
       "        vertical-align: top;\n",
       "    }\n",
       "\n",
       "    .dataframe thead th {\n",
       "        text-align: right;\n",
       "    }\n",
       "</style>\n",
       "<table border=\"1\" class=\"dataframe\">\n",
       "  <thead>\n",
       "    <tr style=\"text-align: right;\">\n",
       "      <th></th>\n",
       "      <th>Tweets</th>\n",
       "    </tr>\n",
       "  </thead>\n",
       "  <tbody>\n",
       "    <tr>\n",
       "      <th>0</th>\n",
       "      <td>Here in Washington we always vote by mail Its ...</td>\n",
       "    </tr>\n",
       "    <tr>\n",
       "      <th>1</th>\n",
       "      <td>The UAE is an essential partner in stopping p...</td>\n",
       "    </tr>\n",
       "    <tr>\n",
       "      <th>2</th>\n",
       "      <td>For decades  has worked tirelessly to EndPolio...</td>\n",
       "    </tr>\n",
       "    <tr>\n",
       "      <th>3</th>\n",
       "      <td>Even with his busy schedule Dr Fauci took the...</td>\n",
       "    </tr>\n",
       "    <tr>\n",
       "      <th>4</th>\n",
       "      <td>Ive been working for some time on a book about...</td>\n",
       "    </tr>\n",
       "  </tbody>\n",
       "</table>\n",
       "</div>"
      ],
      "text/plain": [
       "                                              Tweets\n",
       "0  Here in Washington we always vote by mail Its ...\n",
       "1   The UAE is an essential partner in stopping p...\n",
       "2  For decades  has worked tirelessly to EndPolio...\n",
       "3   Even with his busy schedule Dr Fauci took the...\n",
       "4  Ive been working for some time on a book about..."
      ]
     },
     "execution_count": 84,
     "metadata": {},
     "output_type": "execute_result"
    }
   ],
   "source": [
    "## Create a function to clean Dataset\n",
    "\n",
    "def CleanText(text):\n",
    "    text = re.sub(r'@[A-Za-z0-9]+','',text)\n",
    "    text = re.sub(r'#','', text)\n",
    "    text = re.sub(r'RT[\\s]+','', text)\n",
    "    text = re.sub(r'https?:\\/\\/\\S+','', text)\n",
    "    text = re.sub(r'[^\\w\\s]', '', text)\n",
    "    return text\n",
    "\n",
    "df['Tweets'] = df['Tweets'].apply(CleanText)\n",
    "\n",
    "df.head()"
   ]
  },
  {
   "cell_type": "code",
   "execution_count": 88,
   "metadata": {},
   "outputs": [
    {
     "data": {
      "text/html": [
       "<div>\n",
       "<style scoped>\n",
       "    .dataframe tbody tr th:only-of-type {\n",
       "        vertical-align: middle;\n",
       "    }\n",
       "\n",
       "    .dataframe tbody tr th {\n",
       "        vertical-align: top;\n",
       "    }\n",
       "\n",
       "    .dataframe thead th {\n",
       "        text-align: right;\n",
       "    }\n",
       "</style>\n",
       "<table border=\"1\" class=\"dataframe\">\n",
       "  <thead>\n",
       "    <tr style=\"text-align: right;\">\n",
       "      <th></th>\n",
       "      <th>Tweets</th>\n",
       "      <th>subjectivity</th>\n",
       "      <th>Polarity</th>\n",
       "    </tr>\n",
       "  </thead>\n",
       "  <tbody>\n",
       "    <tr>\n",
       "      <th>0</th>\n",
       "      <td>Here in Washington we always vote by mail Its ...</td>\n",
       "      <td>0.408333</td>\n",
       "      <td>0.30000</td>\n",
       "    </tr>\n",
       "    <tr>\n",
       "      <th>1</th>\n",
       "      <td>The UAE is an essential partner in stopping p...</td>\n",
       "      <td>0.300000</td>\n",
       "      <td>0.00000</td>\n",
       "    </tr>\n",
       "    <tr>\n",
       "      <th>2</th>\n",
       "      <td>For decades  has worked tirelessly to EndPolio...</td>\n",
       "      <td>0.000000</td>\n",
       "      <td>0.00000</td>\n",
       "    </tr>\n",
       "    <tr>\n",
       "      <th>3</th>\n",
       "      <td>Even with his busy schedule Dr Fauci took the...</td>\n",
       "      <td>0.374868</td>\n",
       "      <td>0.07672</td>\n",
       "    </tr>\n",
       "    <tr>\n",
       "      <th>4</th>\n",
       "      <td>Ive been working for some time on a book about...</td>\n",
       "      <td>0.000000</td>\n",
       "      <td>0.00000</td>\n",
       "    </tr>\n",
       "  </tbody>\n",
       "</table>\n",
       "</div>"
      ],
      "text/plain": [
       "                                              Tweets  subjectivity  Polarity\n",
       "0  Here in Washington we always vote by mail Its ...      0.408333   0.30000\n",
       "1   The UAE is an essential partner in stopping p...      0.300000   0.00000\n",
       "2  For decades  has worked tirelessly to EndPolio...      0.000000   0.00000\n",
       "3   Even with his busy schedule Dr Fauci took the...      0.374868   0.07672\n",
       "4  Ive been working for some time on a book about...      0.000000   0.00000"
      ]
     },
     "execution_count": 88,
     "metadata": {},
     "output_type": "execute_result"
    }
   ],
   "source": [
    "## Create a function to get subjectivity\n",
    "\n",
    "def getsubjectivity(text):\n",
    "    return TextBlob(text).sentiment.subjectivity\n",
    "\n",
    "## Create a function to get polarity\n",
    "\n",
    "def getpolarity(text):\n",
    "    return TextBlob(text).sentiment.polarity\n",
    "\n",
    "## create two new columns\n",
    "\n",
    "df['subjectivity'] = df['Tweets'].apply(getsubjectivity)\n",
    "df['Polarity'] = df['Tweets'].apply(getpolarity)\n",
    "df.head()"
   ]
  },
  {
   "cell_type": "code",
   "execution_count": 89,
   "metadata": {},
   "outputs": [
    {
     "data": {
      "text/html": [
       "<div>\n",
       "<style scoped>\n",
       "    .dataframe tbody tr th:only-of-type {\n",
       "        vertical-align: middle;\n",
       "    }\n",
       "\n",
       "    .dataframe tbody tr th {\n",
       "        vertical-align: top;\n",
       "    }\n",
       "\n",
       "    .dataframe thead th {\n",
       "        text-align: right;\n",
       "    }\n",
       "</style>\n",
       "<table border=\"1\" class=\"dataframe\">\n",
       "  <thead>\n",
       "    <tr style=\"text-align: right;\">\n",
       "      <th></th>\n",
       "      <th>Tweets</th>\n",
       "      <th>subjectivity</th>\n",
       "      <th>Polarity</th>\n",
       "      <th>Analysis</th>\n",
       "    </tr>\n",
       "  </thead>\n",
       "  <tbody>\n",
       "    <tr>\n",
       "      <th>0</th>\n",
       "      <td>Here in Washington we always vote by mail Its ...</td>\n",
       "      <td>0.408333</td>\n",
       "      <td>0.30000</td>\n",
       "      <td>Positive</td>\n",
       "    </tr>\n",
       "    <tr>\n",
       "      <th>1</th>\n",
       "      <td>The UAE is an essential partner in stopping p...</td>\n",
       "      <td>0.300000</td>\n",
       "      <td>0.00000</td>\n",
       "      <td>neutral</td>\n",
       "    </tr>\n",
       "    <tr>\n",
       "      <th>2</th>\n",
       "      <td>For decades  has worked tirelessly to EndPolio...</td>\n",
       "      <td>0.000000</td>\n",
       "      <td>0.00000</td>\n",
       "      <td>neutral</td>\n",
       "    </tr>\n",
       "    <tr>\n",
       "      <th>3</th>\n",
       "      <td>Even with his busy schedule Dr Fauci took the...</td>\n",
       "      <td>0.374868</td>\n",
       "      <td>0.07672</td>\n",
       "      <td>Positive</td>\n",
       "    </tr>\n",
       "    <tr>\n",
       "      <th>4</th>\n",
       "      <td>Ive been working for some time on a book about...</td>\n",
       "      <td>0.000000</td>\n",
       "      <td>0.00000</td>\n",
       "      <td>neutral</td>\n",
       "    </tr>\n",
       "  </tbody>\n",
       "</table>\n",
       "</div>"
      ],
      "text/plain": [
       "                                              Tweets  subjectivity  Polarity  \\\n",
       "0  Here in Washington we always vote by mail Its ...      0.408333   0.30000   \n",
       "1   The UAE is an essential partner in stopping p...      0.300000   0.00000   \n",
       "2  For decades  has worked tirelessly to EndPolio...      0.000000   0.00000   \n",
       "3   Even with his busy schedule Dr Fauci took the...      0.374868   0.07672   \n",
       "4  Ive been working for some time on a book about...      0.000000   0.00000   \n",
       "\n",
       "   Analysis  \n",
       "0  Positive  \n",
       "1   neutral  \n",
       "2   neutral  \n",
       "3  Positive  \n",
       "4   neutral  "
      ]
     },
     "execution_count": 89,
     "metadata": {},
     "output_type": "execute_result"
    }
   ],
   "source": [
    "## Create a function to calculate Negative, Positive, neutral\n",
    "\n",
    "def getAnalysis(score):\n",
    "    if score < 0:\n",
    "        return 'Negative'\n",
    "    elif score == 0:\n",
    "        return 'neutral'\n",
    "    else:\n",
    "        return 'Positive'\n",
    "    \n",
    "df['Analysis'] = df['Polarity'].apply(getAnalysis)\n",
    "df.head()"
   ]
  },
  {
   "cell_type": "code",
   "execution_count": 90,
   "metadata": {},
   "outputs": [
    {
     "name": "stdout",
     "output_type": "stream",
     "text": [
      "Positive    119\n",
      "neutral      57\n",
      "Negative     24\n",
      "Name: Analysis, dtype: int64\n",
      "<class 'pandas.core.series.Series'>\n"
     ]
    }
   ],
   "source": [
    "a = []\n",
    "a = df['Analysis'].value_counts()\n",
    "print(a)\n",
    "print(type(a))"
   ]
  },
  {
   "cell_type": "code",
   "execution_count": 98,
   "metadata": {
    "scrolled": true
   },
   "outputs": [
    {
     "data": {
      "text/plain": [
       "<matplotlib.axes._subplots.AxesSubplot at 0x1de70e14788>"
      ]
     },
     "execution_count": 98,
     "metadata": {},
     "output_type": "execute_result"
    },
    {
     "data": {
      "image/png": "[encoded data removed]",
      "text/plain": [
       "<Figure size 432x288 with 1 Axes>"
      ]
     },
     "metadata": {
      "needs_background": "light"
     },
     "output_type": "display_data"
    }
   ],
   "source": [
    "df['Analysis'].value_counts().plot(kind = 'bar',color = 'orange')"
   ]
  },
  {
   "cell_type": "code",
   "execution_count": 100,
   "metadata": {},
   "outputs": [
    {
     "data": {
      "image/png": "[encoded data removed]",
      "text/plain": [
       "<Figure size 576x432 with 1 Axes>"
      ]
     },
     "metadata": {
      "needs_background": "light"
     },
     "output_type": "display_data"
    }
   ],
   "source": [
    "plt.figure(figsize=(8,6))\n",
    "for i in range(0, df.shape[0]):\n",
    "    plt.scatter(df['Polarity'][i], df['subjectivity'][i],color = 'red')\n",
    "    \n",
    "plt.title('Twiteer Sentiment Analysis')\n",
    "plt.xlabel('Polarity')\n",
    "plt.ylabel('Subjectivity')\n",
    "plt.show()"
   ]
  },
  {
   "cell_type": "code",
   "execution_count": 101,
   "metadata": {},
   "outputs": [
    {
     "data": {
      "image/png": "[encoded data removed]",
      "text/plain": [
       "<Figure size 432x288 with 1 Axes>"
      ]
     },
     "metadata": {},
     "output_type": "display_data"
    }
   ],
   "source": [
    "labels = 'Positive', 'Neutral','Negative'\n",
    "\n",
    "p  = a[0]\n",
    "neu = a[1]\n",
    "neg = a[2]\n",
    "sizes = [p,neu,neg]\n",
    "explode = (0.1,0,0)\n",
    "\n",
    "fig1, ax1 = plt.subplots()\n",
    "ax1.pie(sizes, explode=explode, labels=labels, autopct='%1.1f%%',\n",
    "        shadow=True, startangle=90)\n",
    "ax1.axis('equal')\n",
    "\n",
    "plt.show()"
   ]
  },
  {
   "cell_type": "code",
   "execution_count": null,
   "metadata": {},
   "outputs": [],
   "source": []
  }
 ],
 "metadata": {
  "kernelspec": {
   "display_name": "Python 3",
   "language": "python",
   "name": "python3"
  },
  "language_info": {
   "codemirror_mode": {
    "name": "ipython",
    "version": 3
   },
   "file_extension": ".py",
   "mimetype": "text/x-python",
   "name": "python",
   "nbconvert_exporter": "python",
   "pygments_lexer": "ipython3",
   "version": "3.7.6"
  }
 },
 "nbformat": 4,
 "nbformat_minor": 4
}
